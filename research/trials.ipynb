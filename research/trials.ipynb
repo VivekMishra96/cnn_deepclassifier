{
 "cells": [
  {
   "cell_type": "code",
   "execution_count": null,
   "metadata": {},
   "outputs": [],
   "source": []
  }
 ],
 "metadata": {
  "kernelspec": {
   "display_name": "Python 3.8.15 64-bit ('env')",
   "language": "python",
   "name": "python3"
  },
  "language_info": {
   "name": "python",
   "version": "3.8.15"
  },
  "orig_nbformat": 4,
  "vscode": {
   "interpreter": {
    "hash": "ac2b3688cebc94719c47cc7b1bd06333b930f79a90297517153ef4b67417597a"
   }
  }
 },
 "nbformat": 4,
 "nbformat_minor": 2
}
